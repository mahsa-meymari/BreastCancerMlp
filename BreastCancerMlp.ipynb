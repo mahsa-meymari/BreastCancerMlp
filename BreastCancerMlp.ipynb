{
  "nbformat": 4,
  "nbformat_minor": 0,
  "metadata": {
    "colab": {
      "name": "BreastCancerMlp.ipynb",
      "provenance": [],
      "collapsed_sections": []
    },
    "kernelspec": {
      "name": "python3",
      "display_name": "Python 3"
    }
  },
  "cells": [
    {
      "cell_type": "markdown",
      "metadata": {
        "id": "bA-d1Uujb6nv",
        "colab_type": "text"
      },
      "source": [
        "import some Prerequisites"
      ]
    },
    {
      "cell_type": "code",
      "metadata": {
        "id": "PQz5qjBlhaEM",
        "colab_type": "code",
        "outputId": "811e4cee-540e-4445-de5c-dc9b1c3b454f",
        "colab": {
          "base_uri": "https://localhost:8080/",
          "height": 34
        }
      },
      "source": [
        "from sklearn.datasets import load_breast_cancer\n",
        "from keras.models import Sequential,save_model,load_model\n",
        "from keras.layers import Dense\n",
        "from keras.callbacks import EarlyStopping\n",
        "from keras.wrappers.scikit_learn import KerasClassifier\n",
        "from matplotlib import pyplot as plt\n",
        "import random\n",
        "import numpy as np\n",
        "from sklearn.model_selection import RandomizedSearchCV"
      ],
      "execution_count": 1,
      "outputs": [
        {
          "output_type": "stream",
          "text": [
            "Using TensorFlow backend.\n"
          ],
          "name": "stderr"
        }
      ]
    },
    {
      "cell_type": "markdown",
      "metadata": {
        "id": "ssZj0ARXcUpn",
        "colab_type": "text"
      },
      "source": [
        "seprate 20% of data for test 20% for valdiation and 60% for training"
      ]
    },
    {
      "cell_type": "code",
      "metadata": {
        "id": "LNSWTSmUrT0U",
        "colab_type": "code",
        "outputId": "81feac79-fd44-4d36-8f3b-e436ffe717c7",
        "colab": {
          "base_uri": "https://localhost:8080/",
          "height": 85
        }
      },
      "source": [
        "data = load_breast_cancer()\n",
        "m = len(data.target)\n",
        "\n",
        "test_size = m//5\n",
        "val_size = m//5\n",
        "\n",
        "X_val = data.data[:val_size]\n",
        "X_test = data.data[val_size:val_size+test_size]\n",
        "X_train = data.data[val_size+test_size:]\n",
        "\n",
        "y_val = data.target[:val_size]\n",
        "y_test = data.target[val_size:val_size+test_size]\n",
        "y_train = data.target[val_size+test_size:]\n",
        "\n",
        "n = len(data.data[0])\n",
        "\n",
        "print(' features num = {} \\n validation size = {} \\n test size = {} \\n train size = {}'.format(n,val_size,test_size,m-val_size-test_size))"
      ],
      "execution_count": 2,
      "outputs": [
        {
          "output_type": "stream",
          "text": [
            " features num = 30 \n",
            " validation size = 113 \n",
            " test size = 113 \n",
            " train size = 343\n"
          ],
          "name": "stdout"
        }
      ]
    },
    {
      "cell_type": "markdown",
      "metadata": {
        "id": "NeFWHpbrcwHh",
        "colab_type": "text"
      },
      "source": [
        "define a EarlyStopping callback "
      ]
    },
    {
      "cell_type": "code",
      "metadata": {
        "id": "RzCK77gMvOXP",
        "colab_type": "code",
        "colab": {}
      },
      "source": [
        "early_stopping = EarlyStopping(monitor='val_loss',patience=5)"
      ],
      "execution_count": 0,
      "outputs": []
    },
    {
      "cell_type": "markdown",
      "metadata": {
        "id": "C7NOierNc5O-",
        "colab_type": "text"
      },
      "source": [
        "create a mlp model"
      ]
    },
    {
      "cell_type": "code",
      "metadata": {
        "id": "7WG2TKMcrsMl",
        "colab_type": "code",
        "colab": {}
      },
      "source": [
        "def create_model(optimizer = 'adam',activation = 'relu',nn = 10 , nl = 1):\n",
        "  model = Sequential()\n",
        "  for i in range(nl):\n",
        "    model.add(Dense(nn,input_shape=(n,),activation = activation))\n",
        "  \n",
        "  model.add(Dense(1,activation = 'sigmoid'))\n",
        "  model.compile(optimizer = optimizer ,loss='binary_crossentropy',metrics=['accuracy'])\n",
        "  return model\n"
      ],
      "execution_count": 0,
      "outputs": []
    },
    {
      "cell_type": "markdown",
      "metadata": {
        "id": "KmuwntIlKJZo",
        "colab_type": "text"
      },
      "source": [
        "find the best hyperparameters for model using scikit with 3 fold cross validation"
      ]
    },
    {
      "cell_type": "code",
      "metadata": {
        "id": "7KM3vYdfKIjk",
        "colab_type": "code",
        "colab": {
          "base_uri": "https://localhost:8080/",
          "height": 221
        },
        "outputId": "328c769a-3a3e-4df5-89b1-20ba7ede88da"
      },
      "source": [
        "model = KerasClassifier(build_fn = create_model,epochs = 30 )\n",
        "params = dict(optimizer = ['sgd','adam'] ,activation = ['relu','tanh'],nn = [5,10,20],batch_size = [4,32,128],nl=[1,2])\n",
        "random_search = RandomizedSearchCV(model,param_distributions=params,verbose=1,cv = 3,n_jobs=-1) #using all processors.\n",
        "random_search.fit(X_train,y_train,verbose = 0)"
      ],
      "execution_count": 5,
      "outputs": [
        {
          "output_type": "stream",
          "text": [
            "Fitting 3 folds for each of 10 candidates, totalling 30 fits\n"
          ],
          "name": "stdout"
        },
        {
          "output_type": "stream",
          "text": [
            "[Parallel(n_jobs=-1)]: Using backend LokyBackend with 2 concurrent workers.\n",
            "[Parallel(n_jobs=-1)]: Done  30 out of  30 | elapsed:   24.6s finished\n"
          ],
          "name": "stderr"
        },
        {
          "output_type": "execute_result",
          "data": {
            "text/plain": [
              "RandomizedSearchCV(cv=3, error_score=nan,\n",
              "                   estimator=<keras.wrappers.scikit_learn.KerasClassifier object at 0x7f12281bc0b8>,\n",
              "                   iid='deprecated', n_iter=10, n_jobs=-1,\n",
              "                   param_distributions={'activation': ['relu', 'tanh'],\n",
              "                                        'batch_size': [4, 32, 128],\n",
              "                                        'nl': [1, 2], 'nn': [5, 10, 20],\n",
              "                                        'optimizer': ['sgd', 'adam']},\n",
              "                   pre_dispatch='2*n_jobs', random_state=None, refit=True,\n",
              "                   return_train_score=False, scoring=None, verbose=1)"
            ]
          },
          "metadata": {
            "tags": []
          },
          "execution_count": 5
        }
      ]
    },
    {
      "cell_type": "code",
      "metadata": {
        "id": "0x4bA3aBe7to",
        "colab_type": "code",
        "colab": {
          "base_uri": "https://localhost:8080/",
          "height": 34
        },
        "outputId": "f21db41e-8975-4734-cedb-5be658dbd2e2"
      },
      "source": [
        "print('best score = {} using {}'.format(random_search.best_score_,random_search.best_params_))\n",
        "best_optimizer = random_search.best_params_['optimizer']\n",
        "best_activation = random_search.best_params_['activation']\n",
        "best_nn = random_search.best_params_['nn']\n",
        "best_nl = random_search.best_params_['nl']\n",
        "best_batch_size =random_search.best_batch_size = random_search.best_params_['batch_size']"
      ],
      "execution_count": 19,
      "outputs": [
        {
          "output_type": "stream",
          "text": [
            "best score = 0.9241291681925455 using {'optimizer': 'adam', 'nn': 5, 'nl': 1, 'batch_size': 4, 'activation': 'relu'}\n"
          ],
          "name": "stdout"
        }
      ]
    },
    {
      "cell_type": "markdown",
      "metadata": {
        "id": "sGQTktXyJ4Pr",
        "colab_type": "text"
      },
      "source": [
        "train the model with best hyperparameters we've found"
      ]
    },
    {
      "cell_type": "code",
      "metadata": {
        "id": "3JJnEjcAJvt2",
        "colab_type": "code",
        "colab": {
          "base_uri": "https://localhost:8080/",
          "height": 986
        },
        "outputId": "ec289d55-3bef-4f2e-c6fe-3407694cdf55"
      },
      "source": [
        "model = create_model(best_optimizer,best_activation,best_nn,best_nl)\n",
        "history = model.fit(X_train,y_train,epochs=30,validation_data=(X_val,y_val),callbacks=[early_stopping],batch_size = best_batch_size)\n"
      ],
      "execution_count": 7,
      "outputs": [
        {
          "output_type": "stream",
          "text": [
            "Train on 343 samples, validate on 113 samples\n",
            "Epoch 1/30\n",
            "343/343 [==============================] - 0s 544us/step - loss: 18.6497 - accuracy: 0.1866 - val_loss: 15.5415 - val_accuracy: 0.1858\n",
            "Epoch 2/30\n",
            "343/343 [==============================] - 0s 353us/step - loss: 12.2466 - accuracy: 0.1808 - val_loss: 10.8195 - val_accuracy: 0.2301\n",
            "Epoch 3/30\n",
            "343/343 [==============================] - 0s 314us/step - loss: 7.0925 - accuracy: 0.3440 - val_loss: 3.9512 - val_accuracy: 0.4690\n",
            "Epoch 4/30\n",
            "343/343 [==============================] - 0s 317us/step - loss: 3.9245 - accuracy: 0.4781 - val_loss: 1.8743 - val_accuracy: 0.5487\n",
            "Epoch 5/30\n",
            "343/343 [==============================] - 0s 350us/step - loss: 1.8110 - accuracy: 0.6822 - val_loss: 1.6371 - val_accuracy: 0.6549\n",
            "Epoch 6/30\n",
            "343/343 [==============================] - 0s 347us/step - loss: 1.1591 - accuracy: 0.7755 - val_loss: 0.8047 - val_accuracy: 0.7699\n",
            "Epoch 7/30\n",
            "343/343 [==============================] - 0s 315us/step - loss: 0.7742 - accuracy: 0.8338 - val_loss: 0.6760 - val_accuracy: 0.8230\n",
            "Epoch 8/30\n",
            "343/343 [==============================] - 0s 313us/step - loss: 0.7376 - accuracy: 0.8280 - val_loss: 1.0081 - val_accuracy: 0.7522\n",
            "Epoch 9/30\n",
            "343/343 [==============================] - 0s 350us/step - loss: 0.5677 - accuracy: 0.8746 - val_loss: 0.7031 - val_accuracy: 0.7876\n",
            "Epoch 10/30\n",
            "343/343 [==============================] - 0s 314us/step - loss: 0.4735 - accuracy: 0.8863 - val_loss: 0.4575 - val_accuracy: 0.8761\n",
            "Epoch 11/30\n",
            "343/343 [==============================] - 0s 320us/step - loss: 0.4378 - accuracy: 0.9038 - val_loss: 0.5762 - val_accuracy: 0.8142\n",
            "Epoch 12/30\n",
            "343/343 [==============================] - 0s 323us/step - loss: 0.4192 - accuracy: 0.8950 - val_loss: 0.8793 - val_accuracy: 0.7876\n",
            "Epoch 13/30\n",
            "343/343 [==============================] - 0s 314us/step - loss: 0.3703 - accuracy: 0.9125 - val_loss: 1.1280 - val_accuracy: 0.7434\n",
            "Epoch 14/30\n",
            "343/343 [==============================] - 0s 325us/step - loss: 0.3792 - accuracy: 0.9038 - val_loss: 0.8204 - val_accuracy: 0.7965\n",
            "Epoch 15/30\n",
            "343/343 [==============================] - 0s 325us/step - loss: 0.3518 - accuracy: 0.9213 - val_loss: 0.3933 - val_accuracy: 0.9027\n",
            "Epoch 16/30\n",
            "343/343 [==============================] - 0s 309us/step - loss: 0.4022 - accuracy: 0.9038 - val_loss: 0.5587 - val_accuracy: 0.8230\n",
            "Epoch 17/30\n",
            "343/343 [==============================] - 0s 325us/step - loss: 0.3319 - accuracy: 0.9009 - val_loss: 0.3972 - val_accuracy: 0.8938\n",
            "Epoch 18/30\n",
            "343/343 [==============================] - 0s 314us/step - loss: 0.2944 - accuracy: 0.9009 - val_loss: 0.3872 - val_accuracy: 0.8938\n",
            "Epoch 19/30\n",
            "343/343 [==============================] - 0s 319us/step - loss: 0.2838 - accuracy: 0.9125 - val_loss: 0.5022 - val_accuracy: 0.8496\n",
            "Epoch 20/30\n",
            "343/343 [==============================] - 0s 317us/step - loss: 0.2432 - accuracy: 0.9242 - val_loss: 0.3601 - val_accuracy: 0.8850\n",
            "Epoch 21/30\n",
            "343/343 [==============================] - 0s 329us/step - loss: 0.2194 - accuracy: 0.9213 - val_loss: 1.0544 - val_accuracy: 0.7434\n",
            "Epoch 22/30\n",
            "343/343 [==============================] - 0s 333us/step - loss: 0.3300 - accuracy: 0.9125 - val_loss: 0.5239 - val_accuracy: 0.8407\n",
            "Epoch 23/30\n",
            "343/343 [==============================] - 0s 360us/step - loss: 0.2267 - accuracy: 0.9184 - val_loss: 0.2357 - val_accuracy: 0.9292\n",
            "Epoch 24/30\n",
            "343/343 [==============================] - 0s 329us/step - loss: 0.2427 - accuracy: 0.9417 - val_loss: 0.5482 - val_accuracy: 0.8319\n",
            "Epoch 25/30\n",
            "343/343 [==============================] - 0s 324us/step - loss: 0.2168 - accuracy: 0.9213 - val_loss: 0.3026 - val_accuracy: 0.8938\n",
            "Epoch 26/30\n",
            "343/343 [==============================] - 0s 317us/step - loss: 0.2217 - accuracy: 0.9213 - val_loss: 0.4923 - val_accuracy: 0.8407\n",
            "Epoch 27/30\n",
            "343/343 [==============================] - 0s 315us/step - loss: 0.1824 - accuracy: 0.9300 - val_loss: 0.3322 - val_accuracy: 0.8850\n",
            "Epoch 28/30\n",
            "343/343 [==============================] - 0s 318us/step - loss: 0.2193 - accuracy: 0.9155 - val_loss: 1.2655 - val_accuracy: 0.7080\n"
          ],
          "name": "stdout"
        }
      ]
    },
    {
      "cell_type": "markdown",
      "metadata": {
        "id": "tzJ2oJvPdDqZ",
        "colab_type": "text"
      },
      "source": [
        "test the model"
      ]
    },
    {
      "cell_type": "code",
      "metadata": {
        "id": "T_NPXy1vndDw",
        "colab_type": "code",
        "outputId": "838c7f40-82e2-4e7d-cd70-81ac79be9a35",
        "colab": {
          "base_uri": "https://localhost:8080/",
          "height": 51
        }
      },
      "source": [
        "result = model.evaluate(X_test,y_test)\n",
        "print('accuracy ={} loss={}'.format(result[1],result[0]))"
      ],
      "execution_count": 8,
      "outputs": [
        {
          "output_type": "stream",
          "text": [
            "113/113 [==============================] - 0s 43us/step\n",
            "accuracy =0.8230088353157043 loss=0.9326828370052102\n"
          ],
          "name": "stdout"
        }
      ]
    },
    {
      "cell_type": "markdown",
      "metadata": {
        "id": "94XHawUadF-c",
        "colab_type": "text"
      },
      "source": [
        "plot the results"
      ]
    },
    {
      "cell_type": "code",
      "metadata": {
        "id": "LiYaqFYllw-X",
        "colab_type": "code",
        "outputId": "fff22095-2d3a-46b9-ac78-04db8a1a9206",
        "colab": {
          "base_uri": "https://localhost:8080/",
          "height": 545
        }
      },
      "source": [
        "plt.plot(history.history['loss'])\n",
        "plt.plot(history.history['val_loss'])\n",
        "plt.title('loss')\n",
        "plt.legend(['train' ,'validation'])\n",
        "plt.show()\n",
        "\n",
        "plt.plot(history.history['accuracy'])\n",
        "plt.plot(history.history['val_accuracy'])\n",
        "plt.title('accuracy')\n",
        "plt.legend(['train' ,'validation'])\n",
        "plt.show()"
      ],
      "execution_count": 9,
      "outputs": [
        {
          "output_type": "display_data",
          "data": {
            "image/png": "[encoded data removed]",
            "text/plain": [
              "<Figure size 432x288 with 1 Axes>"
            ]
          },
          "metadata": {
            "tags": [],
            "needs_background": "light"
          }
        },
        {
          "output_type": "display_data",
          "data": {
            "image/png": "[encoded data removed]",
            "text/plain": [
              "<Figure size 432x288 with 1 Axes>"
            ]
          },
          "metadata": {
            "tags": [],
            "needs_background": "light"
          }
        }
      ]
    },
    {
      "cell_type": "markdown",
      "metadata": {
        "id": "1iWWTV0PkHkx",
        "colab_type": "text"
      },
      "source": [
        "save the model"
      ]
    },
    {
      "cell_type": "code",
      "metadata": {
        "id": "7uA1tM6PkG0g",
        "colab_type": "code",
        "colab": {}
      },
      "source": [
        "save_model(model,'saved_model.hdf5')"
      ],
      "execution_count": 0,
      "outputs": []
    },
    {
      "cell_type": "markdown",
      "metadata": {
        "id": "jgv54GU-ll0G",
        "colab_type": "text"
      },
      "source": [
        "load the model"
      ]
    },
    {
      "cell_type": "code",
      "metadata": {
        "id": "o0pBXZxOloJW",
        "colab_type": "code",
        "colab": {}
      },
      "source": [
        "model = load_model('saved_model.hdf5')"
      ],
      "execution_count": 0,
      "outputs": []
    },
    {
      "cell_type": "markdown",
      "metadata": {
        "id": "ljVV_o-qdUdX",
        "colab_type": "text"
      },
      "source": [
        "predict some tumor results :)"
      ]
    },
    {
      "cell_type": "code",
      "metadata": {
        "id": "2M5aQDKWnarN",
        "colab_type": "code",
        "outputId": "5ea4202e-1679-4d9d-91ac-217d34dee2e9",
        "colab": {
          "base_uri": "https://localhost:8080/",
          "height": 153
        }
      },
      "source": [
        "t = random.randint(0,m)\n",
        "print('data = {} \\n\\n actual result = {} \\n predicted result = {} '.\n",
        "      format( data.data[t] \n",
        "             ,data.target_names[data.target[t]] \n",
        "             ,data.target_names[model.predict_classes(np.array([data.data[t]]))[0][0]] ))"
      ],
      "execution_count": 18,
      "outputs": [
        {
          "output_type": "stream",
          "text": [
            "data = [1.754e+01 1.932e+01 1.151e+02 9.516e+02 8.968e-02 1.198e-01 1.036e-01\n",
            " 7.488e-02 1.506e-01 5.491e-02 3.971e-01 8.282e-01 3.088e+00 4.073e+01\n",
            " 6.090e-03 2.569e-02 2.713e-02 1.345e-02 1.594e-02 2.658e-03 2.042e+01\n",
            " 2.584e+01 1.395e+02 1.239e+03 1.381e-01 3.420e-01 3.508e-01 1.939e-01\n",
            " 2.928e-01 7.867e-02] \n",
            "\n",
            " actual result = malignant \n",
            " predicted result = malignant \n"
          ],
          "name": "stdout"
        }
      ]
    }
  ]
}